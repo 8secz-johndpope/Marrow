{
 "cells": [
  {
   "cell_type": "code",
   "execution_count": 2,
   "metadata": {
    "collapsed": true
   },
   "outputs": [],
   "source": [
    "import spacy\n",
    "import numpy as np\n",
    "from annoy import AnnoyIndex"
   ]
  },
  {
   "cell_type": "code",
   "execution_count": 3,
   "metadata": {
    "collapsed": true
   },
   "outputs": [],
   "source": [
    "nlp = spacy.load('en')"
   ]
  },
  {
   "cell_type": "code",
   "execution_count": 4,
   "metadata": {},
   "outputs": [
    {
     "data": {
      "text/plain": [
       "(384,)"
      ]
     },
     "execution_count": 4,
     "metadata": {},
     "output_type": "execute_result"
    }
   ],
   "source": [
    "# from https://github.com/aparrish/plot-to-poem/blob/master/plot-to-poem.ipynb\n",
    "def meanvector(text):\n",
    "    s = nlp(text)\n",
    "    vecs = [word.vector for word in s \\\n",
    "            if word.pos_ in ('NOUN', 'VERB', 'ADJ', 'ADV', 'PROPN', 'ADP') \\\n",
    "            and np.any(word.vector)] # skip all-zero vectors\n",
    "    if len(vecs) == 0:\n",
    "        raise IndexError\n",
    "    else:\n",
    "        return np.array(vecs).mean(axis=0)\n",
    "    \n",
    "meanvector(\"this is a blah blah what do you want\").shape"
   ]
  },
  {
   "cell_type": "code",
   "execution_count": 5,
   "metadata": {
    "collapsed": true
   },
   "outputs": [],
   "source": [
    "t = AnnoyIndex(384, metric='angular')"
   ]
  },
  {
   "cell_type": "code",
   "execution_count": 6,
   "metadata": {
    "collapsed": true
   },
   "outputs": [],
   "source": [
    "i = 0\n",
    "file = open(\"dinner_talks_sample\", \"r\")\n",
    "lines = file.readlines()\n",
    "inserted_lines = list()\n",
    "for line in lines:\n",
    "    line = line.rstrip()    \n",
    "    try:        \n",
    "        mean_vector = meanvector(line)        \n",
    "        t.add_item(i, mean_vector)\n",
    "        inserted_lines.append(line)\n",
    "        i += 1\n",
    "    except IndexError:\n",
    "        print(\"Index error!\")\n",
    "        continue        "
   ]
  },
  {
   "cell_type": "code",
   "execution_count": 7,
   "metadata": {},
   "outputs": [
    {
     "data": {
      "text/plain": [
       "True"
      ]
     },
     "execution_count": 7,
     "metadata": {},
     "output_type": "execute_result"
    }
   ],
   "source": [
    "t.build(100)"
   ]
  },
  {
   "cell_type": "code",
   "execution_count": 8,
   "metadata": {},
   "outputs": [
    {
     "name": "stdout",
     "output_type": "stream",
     "text": [
      "50 items in vector space for 50 lines\n"
     ]
    }
   ],
   "source": [
    "print(\"{} items in vector space for {} lines\".format(t.get_n_items(), len(inserted_lines)))\n",
    "assert(t.get_n_items() == len(lines))"
   ]
  },
  {
   "cell_type": "code",
   "execution_count": 18,
   "metadata": {},
   "outputs": [
    {
     "name": "stdout",
     "output_type": "stream",
     "text": [
      "([48, 10, 28, 24, 34], [0.0, 0.832426905632019, 0.8468745350837708, 0.9303187131881714, 0.9437580704689026])\n"
     ]
    }
   ],
   "source": [
    "nearest = t.get_nns_by_vector(meanvector(\"You're talking to me?\"), n=5, include_distances=True)\n",
    "print(nearest)"
   ]
  }
 ],
 "metadata": {
  "kernelspec": {
   "display_name": "venv",
   "language": "python",
   "name": "venv"
  },
  "language_info": {
   "codemirror_mode": {
    "name": "ipython",
    "version": 3
   },
   "file_extension": ".py",
   "mimetype": "text/x-python",
   "name": "python",
   "nbconvert_exporter": "python",
   "pygments_lexer": "ipython3",
   "version": "3.6.5"
  }
 },
 "nbformat": 4,
 "nbformat_minor": 2
}
