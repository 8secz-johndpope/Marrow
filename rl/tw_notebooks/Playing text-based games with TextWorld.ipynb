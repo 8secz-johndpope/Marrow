{
 "cells": [
  {
   "cell_type": "markdown",
   "metadata": {},
   "source": [
    "# Playing text-based games with TextWorld\n",
    "This tutorial shows how to play a text-based adventure game using TextWorld's API."
   ]
  },
  {
   "cell_type": "markdown",
   "metadata": {},
   "source": [
    "## Playing Zork1\n",
    "### Getting the game file\n",
    "First, we need a copy of `zork1.z5`."
   ]
  },
  {
   "cell_type": "code",
   "execution_count": 1,
   "metadata": {},
   "outputs": [
    {
     "name": "stdout",
     "output_type": "stream",
     "text": [
      "Downloading z ork1.z5 ...\n",
      "Done.\n"
     ]
    }
   ],
   "source": [
    "!echo \"Downloading z ork1.z5 ...\"\n",
    "!wget -q -N https://archive.org/download/Zork1Release88Z-machineFile/zork1.z5\n",
    "!echo \"Done.\""
   ]
  },
  {
   "cell_type": "markdown",
   "metadata": {},
   "source": [
    "### Loading the library"
   ]
  },
  {
   "cell_type": "code",
   "execution_count": 2,
   "metadata": {},
   "outputs": [],
   "source": [
    "import textworld"
   ]
  },
  {
   "cell_type": "markdown",
   "metadata": {},
   "source": [
    "Documentation for the TextWorld API can be found at\n",
    "\n",
    "https://textworld-docs.azurewebsites.net/textworld.html"
   ]
  },
  {
   "cell_type": "markdown",
   "metadata": {},
   "source": [
    "### Starting a game"
   ]
  },
  {
   "cell_type": "code",
   "execution_count": 3,
   "metadata": {},
   "outputs": [],
   "source": [
    "env = textworld.start('./zork1.z5')"
   ]
  },
  {
   "cell_type": "markdown",
   "metadata": {},
   "source": [
    "Here `env` is a subclass of `textworld.core.Environment`. It provides the API allowing us to interact with the text-based game parser/interpreter that is running `zork1.z5`. Here are the most important methods we can access:\n",
    "\n",
    "```python\n",
    "# Restart the game and get the initial observation/state from the game.\n",
    "game_state = env.reset()\n",
    "\n",
    "# Some games contain stochasticity, the following allows us to make a playthrough reproducible.\n",
    "env.seed(seed=None)\n",
    "\n",
    "# Perform a step in the game, i.e. send a text command and get the new state, a reward for reaching that new state and whether the game is finished (either won or lost).\n",
    "game_state, reward, done = env.step(command)\n",
    "\n",
    "# Display the current observation, i.e. send the interpreter's response to stdout.\n",
    "env.render()\n",
    "```"
   ]
  },
  {
   "cell_type": "markdown",
   "metadata": {},
   "source": [
    "### Getting the initial state"
   ]
  },
  {
   "cell_type": "code",
   "execution_count": 4,
   "metadata": {},
   "outputs": [],
   "source": [
    "game_state = env.reset()"
   ]
  },
  {
   "cell_type": "markdown",
   "metadata": {},
   "source": [
    "The variable `game_state` is a subclass of `textworld.core.GameState`. It provides the API allowing us to retrieve diverse information about the current state of the game. Here are the most useful properties."
   ]
  },
  {
   "cell_type": "code",
   "execution_count": 5,
   "metadata": {},
   "outputs": [
    {
     "name": "stdout",
     "output_type": "stream",
     "text": [
      "Copyright (c) 1981, 1982, 1983 Infocom, Inc. All rights reserved.\n",
      "ZORK is a registered trademark of Infocom, Inc.\n",
      "Revision 88 / Serial number 840726\n",
      "\n",
      "West of House\n",
      "You are standing in an open field west of a white house, with a boarded front door.\n",
      "There is a small mailbox here.\n",
      "\n",
      "\n"
     ]
    }
   ],
   "source": [
    "# Response from the parser after entering a text command or resetting a game.\n",
    "print(game_state.feedback)"
   ]
  },
  {
   "cell_type": "code",
   "execution_count": 6,
   "metadata": {},
   "outputs": [
    {
     "name": "stdout",
     "output_type": "stream",
     "text": [
      "None\n"
     ]
    }
   ],
   "source": [
    "# Text describing the room the player is currently in.\n",
    "# It corresponds the parser's feedback of the \"look\" command.\n",
    "print(game_state.description)"
   ]
  },
  {
   "cell_type": "code",
   "execution_count": 7,
   "metadata": {},
   "outputs": [
    {
     "name": "stdout",
     "output_type": "stream",
     "text": [
      "None\n"
     ]
    }
   ],
   "source": [
    "# Text describing the player's inventory.\n",
    "print(game_state.inventory)"
   ]
  },
  {
   "cell_type": "code",
   "execution_count": 8,
   "metadata": {},
   "outputs": [
    {
     "name": "stdout",
     "output_type": "stream",
     "text": [
      "0\n"
     ]
    }
   ],
   "source": [
    "# Score received up until now.\n",
    "print(game_state.score)"
   ]
  },
  {
   "cell_type": "markdown",
   "metadata": {},
   "source": [
    "### Sending commands"
   ]
  },
  {
   "cell_type": "code",
   "execution_count": 9,
   "metadata": {},
   "outputs": [
    {
     "name": "stdout",
     "output_type": "stream",
     "text": [
      "Opening the small mailbox reveals a leaflet.\n",
      "\n",
      "\n"
     ]
    }
   ],
   "source": [
    "game_state, score, done = env.step(\"open mailbox\")\n",
    "print(game_state.feedback)  # Result of the command."
   ]
  },
  {
   "cell_type": "code",
   "execution_count": 10,
   "metadata": {},
   "outputs": [
    {
     "name": "stdout",
     "output_type": "stream",
     "text": [
      "None\n"
     ]
    }
   ],
   "source": [
    "print(game_state.description)  # Description of the room."
   ]
  },
  {
   "cell_type": "markdown",
   "metadata": {},
   "source": [
    "Alternatively to `print(game_state.feedback)`, it is more convenient to do:"
   ]
  },
  {
   "cell_type": "code",
   "execution_count": 11,
   "metadata": {},
   "outputs": [
    {
     "name": "stdout",
     "output_type": "stream",
     "text": [
      "Opening the small mailbox reveals a leaflet.\n",
      "\n"
     ]
    }
   ],
   "source": [
    "env.render()"
   ]
  },
  {
   "cell_type": "markdown",
   "metadata": {},
   "source": [
    "### Making a simple play loop"
   ]
  },
  {
   "cell_type": "code",
   "execution_count": null,
   "metadata": {},
   "outputs": [
    {
     "name": "stdout",
     "output_type": "stream",
     "text": [
      "Copyright (c) 1981, 1982, 1983 Infocom, Inc. All rights reserved.\n",
      "ZORK is a registered trademark of Infocom, Inc.\n",
      "Revision 88 / Serial number 840726\n",
      "\n",
      "West of House\n",
      "You are standing in an open field west of a white house, with a boarded front\n",
      "door.\n",
      "There is a small mailbox here.\n",
      "\n",
      "> look at mailbox\n",
      "The small mailbox is closed.\n",
      "\n",
      "> open mailbox\n",
      "Opening the small mailbox reveals a leaflet.\n",
      "\n",
      "> read leaflet\n",
      "(Taken)\n",
      "\"WELCOME TO ZORK!\n",
      "\n",
      "ZORK is a game of adventure, danger, and low cunning. In it you will explore\n",
      "some of the most amazing territory ever seen by mortals. No computer should be\n",
      "without one!\"\n",
      "\n",
      "> \n",
      "I beg your pardon?\n",
      "\n",
      "> go east\n",
      "The door is boarded and you can't remove the boards.\n",
      "\n",
      "> look east\n",
      "You used the word \"east\" in a way that I don't understand.\n",
      "\n",
      "> go north\n",
      "North of House\n",
      "You are facing the north side of a white house. There is no door here, and all\n",
      "the windows are boarded up. To the north a narrow path winds through the trees.\n",
      "\n",
      "> go north\n",
      "Forest Path\n",
      "This is a path winding through a dimly lit forest. The path heads north-south\n",
      "here. One particularly large tree with some low branches stands at the edge of\n",
      "the path.\n",
      "\n",
      "> look at tree\n",
      "There's nothing special about the tree.\n",
      "You hear in the distance the chirping of a song bird.\n",
      "\n",
      "> pick up branch\n",
      "You can't be serious.\n",
      "You hear in the distance the chirping of a song bird.\n",
      "\n",
      "> go north\n",
      "Clearing\n",
      "You are in a clearing, with a forest surrounding you on all sides. A path leads\n",
      "south.\n",
      "On the ground is a pile of leaves.\n",
      "\n",
      "> pick up leaves\n",
      "In disturbing the pile of leaves, a grating is revealed.\n",
      "Taken.\n",
      "\n",
      "> open grating\n",
      "The grating is locked.\n",
      "\n",
      "> inventory\n",
      "You are carrying:\n",
      "  A pile of leaves\n",
      "  A leaflet\n",
      "\n",
      "> go soth\n",
      "I don't know the word \"soth\".\n",
      "\n",
      "> go south\n",
      "Forest Path\n",
      "\n",
      "> go south\n",
      "North of House\n",
      "\n",
      "> go south\n",
      "The windows are all boarded.\n",
      "\n",
      "> go south\n",
      "The windows are all boarded.\n",
      "\n",
      "> go west\n",
      "West of House\n",
      "There is a small mailbox here.\n",
      "\n",
      "> go west\n",
      "Forest\n",
      "This is a forest, with trees in all directions. To the east, there appears to be\n",
      "sunlight.\n",
      "You hear in the distance the chirping of a song bird.\n",
      "\n",
      "> go north\n",
      "Clearing\n",
      "\n",
      "> go north\n",
      "The forest becomes impenetrable to the north.\n",
      "\n",
      "> go south\n",
      "Forest Path\n",
      "You hear in the distance the chirping of a song bird.\n",
      "\n",
      "> go north\n",
      "Clearing\n",
      "\n",
      "> go east\n",
      "Forest\n",
      "This is a dimly lit forest, with large trees all around.\n",
      "\n",
      "> go east\n",
      "Forest\n",
      "The forest thins out, revealing impassable mountains.\n",
      "\n",
      "> go west\n",
      "Forest\n",
      "\n",
      "> go south\n",
      "Clearing\n",
      "You are in a small clearing in a well marked forest path that extends to the\n",
      "east and west.\n",
      "\n",
      "> go east\n",
      "Canyon View\n",
      "You are at the top of the Great Canyon on its west wall. From here there is a\n",
      "marvelous view of the canyon and parts of the Frigid River upstream. Across the\n",
      "canyon, the walls of the White Cliffs join the mighty ramparts of the Flathead\n",
      "Mountains to the east. Following the Canyon upstream to the north, Aragain Falls\n",
      "may be seen, complete with rainbow. The mighty Frigid River flows out from a\n",
      "great dark cavern. To the west and south can be seen an immense forest,\n",
      "stretching for miles around. A path leads northwest. It is possible to climb\n",
      "down into the canyon from here.\n",
      "\n",
      "> climb down\n",
      "What do you want to climb down?\n",
      "\n",
      "> climb down canyon\n",
      "I don't know the word \"canyon\".\n",
      "\n",
      "> go down\n",
      "Rocky Ledge\n",
      "You are on a ledge about halfway up the wall of the river canyon. You can see\n",
      "from here that the main flow from Aragain Falls twists along a passage which it\n",
      "is impossible for you to enter. Below you is the canyon bottom. Above you is\n",
      "more cliff, which appears climbable.\n",
      "\n",
      "> go down\n",
      "Canyon Bottom\n",
      "You are beneath the walls of the river canyon which may be climbable here. The\n",
      "lesser part of the runoff of Aragain Falls flows by below. To the north is a\n",
      "narrow path.\n",
      "\n",
      "> go north\n",
      "End of Rainbow\n",
      "You are on a small, rocky beach on the continuation of the Frigid River past the\n",
      "Falls. The beach is narrow due to the presence of the White Cliffs. The river\n",
      "canyon opens here and sunlight shines in from above. A rainbow crosses over the\n",
      "falls to the east and a narrow path continues to the southwest.\n",
      "\n",
      "> go southwest\n",
      "Canyon Bottom\n",
      "\n",
      "> look east\n",
      "You used the word \"east\" in a way that I don't understand.\n",
      "\n",
      "> look to the east\n",
      "You used the word \"east\" in a way that I don't understand.\n",
      "\n",
      "> look\n",
      "Canyon Bottom\n",
      "You are beneath the walls of the river canyon which may be climbable here. The\n",
      "lesser part of the runoff of Aragain Falls flows by below. To the north is a\n",
      "narrow path.\n",
      "\n",
      "> go north\n",
      "End of Rainbow\n",
      "\n",
      "> go north\n",
      "You can't go that way.\n",
      "\n",
      "> go east\n",
      "You can't go that way.\n",
      "\n",
      "> go west\n",
      "You can't go that way.\n",
      "\n",
      "> go south\n",
      "You can't go that way.\n",
      "\n",
      "> go up\n",
      "You can't go that way.\n",
      "\n",
      "> go north\n",
      "You can't go that way.\n",
      "\n",
      "> look\n",
      "End of Rainbow\n",
      "You are on a small, rocky beach on the continuation of the Frigid River past the\n",
      "Falls. The beach is narrow due to the presence of the White Cliffs. The river\n",
      "canyon opens here and sunlight shines in from above. A rainbow crosses over the\n",
      "falls to the east and a narrow path continues to the southwest.\n",
      "\n",
      "> go southwest\n",
      "Canyon Bottom\n",
      "\n",
      "> look\n",
      "Canyon Bottom\n",
      "You are beneath the walls of the river canyon which may be climbable here. The\n",
      "lesser part of the runoff of Aragain Falls flows by below. To the north is a\n",
      "narrow path.\n",
      "\n",
      "> go east\n",
      "You can't go that way.\n",
      "\n",
      "> go north\n",
      "End of Rainbow\n",
      "\n",
      "> look\n",
      "End of Rainbow\n",
      "You are on a small, rocky beach on the continuation of the Frigid River past the\n",
      "Falls. The beach is narrow due to the presence of the White Cliffs. The river\n",
      "canyon opens here and sunlight shines in from above. A rainbow crosses over the\n",
      "falls to the east and a narrow path continues to the southwest.\n",
      "\n",
      "> go east\n",
      "You can't go that way.\n",
      "\n",
      "> go west\n",
      "You can't go that way.\n",
      "\n",
      "> go southwest\n",
      "Canyon Bottom\n",
      "\n",
      "> go south\n",
      "You can't go that way.\n",
      "\n",
      "> go southwest\n",
      "You can't go that way.\n",
      "\n",
      "> go northeast\n",
      "You can't go that way.\n",
      "\n",
      "> look\n",
      "Canyon Bottom\n",
      "You are beneath the walls of the river canyon which may be climbable here. The\n",
      "lesser part of the runoff of Aragain Falls flows by below. To the north is a\n",
      "narrow path.\n",
      "\n",
      "> climb\n",
      "You can't go that way.\n",
      "\n",
      "> go up\n",
      "Rocky Ledge\n",
      "\n",
      "> go up\n",
      "Canyon View\n",
      "\n",
      "> look\n",
      "Canyon View\n",
      "You are at the top of the Great Canyon on its west wall. From here there is a\n",
      "marvelous view of the canyon and parts of the Frigid River upstream. Across the\n",
      "canyon, the walls of the White Cliffs join the mighty ramparts of the Flathead\n",
      "Mountains to the east. Following the Canyon upstream to the north, Aragain Falls\n",
      "may be seen, complete with rainbow. The mighty Frigid River flows out from a\n",
      "great dark cavern. To the west and south can be seen an immense forest,\n",
      "stretching for miles around. A path leads northwest. It is possible to climb\n",
      "down into the canyon from here.\n",
      "\n",
      "> go south\n",
      "Storm-tossed trees block your way.\n",
      "\n",
      "> go south\n",
      "Storm-tossed trees block your way.\n",
      "\n",
      "> go east\n",
      "Rocky Ledge\n",
      "\n",
      "> go east\n",
      "You can't go that way.\n",
      "\n",
      "> go south\n",
      "You can't go that way.\n",
      "\n",
      "> go north\n",
      "You can't go that way.\n",
      "\n",
      "> map\n",
      "There was no verb in that sentence!\n",
      "\n",
      "> look at map\n",
      "You can't see any map here!\n",
      "\n",
      "> go west\n",
      "You can't go that way.\n",
      "\n",
      "> go north\n",
      "You can't go that way.\n",
      "\n"
     ]
    }
   ],
   "source": [
    "try:\n",
    "    done = False\n",
    "    env.reset()\n",
    "    while not done:\n",
    "        env.render()\n",
    "        command = input(\"> \")\n",
    "        game_state, reward, done = env.step(command)\n",
    "    \n",
    "    env.render()  # Final message.\n",
    "except KeyboardInterrupt:\n",
    "    pass  # Quit the game.\n",
    "\n",
    "print(\"Played {} steps, scoring {} points.\".format(game_state.moves, game_state.score))\n"
   ]
  },
  {
   "cell_type": "markdown",
   "metadata": {},
   "source": [
    "## Play a generated game\n",
    "TextWorld also has the capacity to generate games. Play one of our generated games below using the builtin play loop function or the `tw-play` script."
   ]
  },
  {
   "cell_type": "code",
   "execution_count": 2,
   "metadata": {},
   "outputs": [
    {
     "name": "stdout",
     "output_type": "stream",
     "text": [
      "\n",
      "\n",
      "\n",
      "                    ________  ________  __    __  ________\n",
      "                   |        \\|        \\|  \\  |  \\|        \\\n",
      "                    \\$$$$$$$$| $$$$$$$$| $$  | $$ \\$$$$$$$$\n",
      "                      | $$   | $$__     \\$$\\/  $$   | $$\n",
      "                      | $$   | $$  \\     >$$  $$    | $$\n",
      "                      | $$   | $$$$$    /  $$$$\\    | $$\n",
      "                      | $$   | $$_____ |  $$ \\$$\\   | $$\n",
      "                      | $$   | $$     \\| $$  | $$   | $$\n",
      "                       \\$$    \\$$$$$$$$ \\$$   \\$$    \\$$\n",
      "              __       __   ______   _______   __        _______\n",
      "             |  \\  _  |  \\ /      \\ |       \\ |  \\      |       \\\n",
      "             | $$ / \\ | $$|  $$$$$$\\| $$$$$$$\\| $$      | $$$$$$$\\\n",
      "             | $$/  $\\| $$| $$  | $$| $$__| $$| $$      | $$  | $$\n",
      "             | $$  $$$\\ $$| $$  | $$| $$    $$| $$      | $$  | $$\n",
      "             | $$ $$\\$$\\$$| $$  | $$| $$$$$$$\\| $$      | $$  | $$\n",
      "             | $$$$  \\$$$$| $$__/ $$| $$  | $$| $$_____ | $$__/ $$\n",
      "             | $$$    \\$$$ \\$$    $$| $$  | $$| $$     \\| $$    $$\n",
      "              \\$$      \\$$  \\$$$$$$  \\$$   \\$$ \\$$$$$$$$ \\$$$$$$$\n",
      "\n",
      "\n",
      "\n",
      "-= Bedroom =-\n",
      "You are in a bedroom. A standard kind of place.\n",
      "\n",
      "You can make out a chest drawer. There's something strange about this being\n",
      "here, but you can't put your finger on it. You see a closed antique trunk right\n",
      "there by you. Look over there! a king-size bed. Now why would someone leave that\n",
      "there? But oh no! there's nothing on this piece of trash.\n",
      "\n",
      "There is a closed wooden door leading east.\n",
      "\n",
      "Done after 0 steps. Score 0/1.\n"
     ]
    }
   ],
   "source": [
    "textworld.play(\"./games/rewardsSparse_goalNone.ulx\")"
   ]
  }
 ],
 "metadata": {
  "kernelspec": {
   "display_name": "Python 3",
   "language": "python",
   "name": "python3"
  },
  "language_info": {
   "codemirror_mode": {
    "name": "ipython",
    "version": 3
   },
   "file_extension": ".py",
   "mimetype": "text/x-python",
   "name": "python",
   "nbconvert_exporter": "python",
   "pygments_lexer": "ipython3",
   "version": "3.8.2"
  }
 },
 "nbformat": 4,
 "nbformat_minor": 2
}
